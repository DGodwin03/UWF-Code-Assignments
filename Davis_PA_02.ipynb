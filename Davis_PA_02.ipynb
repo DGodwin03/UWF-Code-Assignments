{
  "cells": [
    {
      "cell_type": "markdown",
      "id": "b329987d-a05d-4a34-8b42-ea26b9a49425",
      "metadata": {
        "id": "b329987d-a05d-4a34-8b42-ea26b9a49425"
      },
      "source": [
        "# 2. Programming Assignments: Numpy and Pandas Basics"
      ]
    },
    {
      "cell_type": "markdown",
      "id": "7b2e25d8-394b-4e8e-9180-b2a6f64ab200",
      "metadata": {
        "id": "7b2e25d8-394b-4e8e-9180-b2a6f64ab200"
      },
      "source": [
        "## NumPy: Average exam scores"
      ]
    },
    {
      "cell_type": "markdown",
      "id": "7ec4b1ac-d57c-4a70-8448-19764fea877b",
      "metadata": {
        "id": "7ec4b1ac-d57c-4a70-8448-19764fea877b"
      },
      "source": [
        "Write a program that reads two sets of exam scores of five students from user input and stores the scores into two NumPy arrays (exam1 and exam2). The program then calculates the average of the two exams for each of the five students and outputs the average scores as a NumPy array. The program finally counts the number of average scores that are 80 or higher and outputs the count.\n",
        "\n",
        "Ex: If the input of the two sets of scores are:\n",
        "\n",
        "    75 80 65 82 92\n",
        "    88 85 75 95 73\n",
        "\n",
        "where [75 80 65 82 92] is stored in NumPy array exam1, and [88 85 75 95 73] is stored in NumPy array exam2. The program then outputs:\n",
        "\n",
        "    Average scores: [81.5 82.5 70.  88.5 82.5]\n",
        "    Number of students who received 80 and above: 4\n",
        "\n"
      ]
    },
    {
      "cell_type": "code",
      "execution_count": 27,
      "id": "8cacbc8f-d0f9-4382-8c98-f4fb3ee35321",
      "metadata": {
        "colab": {
          "base_uri": "https://localhost:8080/"
        },
        "id": "8cacbc8f-d0f9-4382-8c98-f4fb3ee35321",
        "outputId": "6c80e9dc-78f0-4659-b1b3-70a024864903"
      },
      "outputs": [
        {
          "output_type": "stream",
          "name": "stdout",
          "text": [
            "Enter scores for exam 1 (space-separated): 85 80 30 82 92\n",
            "Enter scores for exam 2 (space-separated): 98 86 76 20 73\n",
            "Average scores: [91.5 83.  53.  51.  82.5]\n",
            "Number of students who received 80 and above: 3\n"
          ]
        }
      ],
      "source": [
        "# TODO: Import NumPy\n",
        "import numpy as np\n",
        "\n",
        "# TODO: Read two sets of exam scores of five students from user input\n",
        "#       and store the scores into two NumPy arrays\n",
        "exam1 = np.array(list(map(float, input(\"Enter scores for exam 1 (space-separated): \").split())))\n",
        "exam2 = np.array(list(map(float, input(\"Enter scores for exam 2 (space-separated): \").split())))\n",
        "\n",
        "# TODO: Compute the average scores for each of the five students\n",
        "average_scores = (exam1 + exam2) / 2\n",
        "\n",
        "# TODO: Output \"Average scores: \" followed by the NumPy array of the average scores\n",
        "print(\"Average scores:\", average_scores)\n",
        "\n",
        "# TODO: Count the number of average scores that are >= 80\n",
        "above_80_count = np.sum(average_scores >= 80)\n",
        "\n",
        "# TODO: Output \"Number of students who received 80 and above: \" followed by the count\n",
        "print(\"Number of students who received 80 and above:\", above_80_count)\n"
      ]
    },
    {
      "cell_type": "code",
      "execution_count": null,
      "id": "6723fb5e-2609-4ffa-8b36-58b7541c5ff0",
      "metadata": {
        "id": "6723fb5e-2609-4ffa-8b36-58b7541c5ff0"
      },
      "outputs": [],
      "source": []
    },
    {
      "cell_type": "markdown",
      "id": "580cae23-9502-44b6-96ee-5b8681410249",
      "metadata": {
        "id": "580cae23-9502-44b6-96ee-5b8681410249"
      },
      "source": [
        "## Numpy: Curve student scores"
      ]
    },
    {
      "cell_type": "markdown",
      "id": "63a53d99-6513-41b0-8e23-c17a435d9476",
      "metadata": {
        "id": "63a53d99-6513-41b0-8e23-c17a435d9476"
      },
      "source": [
        "Given the name of a text file that is read from user input and contains student scores, complete a program to perform the following tasks:\n",
        "\n",
        "- Load student scores from the text file into a NumPy array.\n",
        "- Calculate the median and average of the student scores.\n",
        "- Curve the student scores by adding the difference of 100 and the maximum score (100 - max) to each score. As a result, the new maximum score would become 100.\n",
        "- Output the median and average scores with two digits after the decimal point.\n",
        "- Output the curved scores as a NumPy array. End the last output with a newline.\n",
        "- Follow the output format as shown in the example below.\n",
        "Note: Different input text files will be used by the auto-grader. The number of student scores in each file may vary.\n",
        "\n",
        "Ex: If the input of the program is:\n",
        "\n",
        "    scores.txt\n",
        "the output is:\n",
        "\n",
        "    Median = 73.00\n",
        "    Average = 73.32\n",
        "    Curved scores = [ 70  95  84  68  98  73  67  88  73 100  79  92 100  83  98  85 100  85 77  95  99  81  69  74  75]\n"
      ]
    },
    {
      "cell_type": "code",
      "source": [
        "from google.colab import drive\n",
        "drive.mount('/content/drive')"
      ],
      "metadata": {
        "colab": {
          "base_uri": "https://localhost:8080/"
        },
        "id": "k9i5YpJNyskR",
        "outputId": "1487fb38-6881-48fc-a201-a6e2cea5fb34"
      },
      "id": "k9i5YpJNyskR",
      "execution_count": null,
      "outputs": [
        {
          "output_type": "stream",
          "name": "stdout",
          "text": [
            "Drive already mounted at /content/drive; to attempt to forcibly remount, call drive.mount(\"/content/drive\", force_remount=True).\n"
          ]
        }
      ]
    },
    {
      "cell_type": "code",
      "execution_count": 29,
      "id": "4b3b4689-3f94-4db9-b243-146cccc76b78",
      "metadata": {
        "colab": {
          "base_uri": "https://localhost:8080/"
        },
        "id": "4b3b4689-3f94-4db9-b243-146cccc76b78",
        "outputId": "7307c239-f7b2-4f79-9d6a-0fdfb5ca80f9"
      },
      "outputs": [
        {
          "output_type": "stream",
          "name": "stdout",
          "text": [
            "scores_test1.txt\n",
            "Median = 63.00\n",
            "Average = 62.85\n",
            "Median = 63.0\n",
            "Average = 62.85454545454545\n",
            "Curved scores = [ 96  98 100  96  73  74  98  95 100  78  71  88  76  91  71  88  73  82\n",
            "  77 100  87  80  91  99  97  97  83  73  93  76  85  75  92  95  84  76\n",
            "  85  89  95  82  87  95  81  73  88  84  81  72  86  95  93  84  75  82\n",
            "  87]\n"
          ]
        }
      ],
      "source": [
        "# TODO: Import NumPy\n",
        "import numpy as np\n",
        "\n",
        "# TODO: Read the file name from user input\n",
        "file_name = input()\n",
        "\n",
        "# TODO: Load student scores from file_name into a NumPy array\n",
        "scores = np.loadtxt(f'/content/drive/MyDrive/CAP4770/pa2/{file_name}', dtype=int)\n",
        "\n",
        "# TODO: Calculate the median and average of student scores\n",
        "median = np.median(scores)\n",
        "average = np.mean(scores)\n",
        "\n",
        "# TODO: Curve student scores\n",
        "curved_scores = scores + (100 - np.max(scores))\n",
        "\n",
        "# Output the median and average scores with two digits after the decimal point\n",
        "print(\"Median = {:.2f}\".format(median))\n",
        "print(\"Average = {:.2f}\".format(average))\n",
        "\n",
        "# TODO: Output the median, average, and curved scores\n",
        "print(\"Median =\", median)\n",
        "print(\"Average =\", average)\n",
        "print(\"Curved scores =\", curved_scores)"
      ]
    },
    {
      "cell_type": "code",
      "execution_count": null,
      "id": "6a77a77d-980b-4337-bc16-e85cff4a7c8f",
      "metadata": {
        "id": "6a77a77d-980b-4337-bc16-e85cff4a7c8f"
      },
      "outputs": [],
      "source": []
    },
    {
      "cell_type": "markdown",
      "id": "cd0d36cb-6e54-4ee2-8e66-9522dfdc7acc",
      "metadata": {
        "id": "cd0d36cb-6e54-4ee2-8e66-9522dfdc7acc"
      },
      "source": [
        "## Pandas: Course grade statistics  "
      ]
    },
    {
      "cell_type": "markdown",
      "id": "c17d9bd5-0b8b-4e49-91fc-e2cae3bfda9f",
      "metadata": {
        "id": "c17d9bd5-0b8b-4e49-91fc-e2cae3bfda9f"
      },
      "source": [
        "Given the file name of a .tsv file read from user input containing student names and the respective course assignment grades, complete a program that performs the following tasks:\n",
        "\n",
        "- Read the input file as a pandas dataframe.\n",
        "- Output the students' names and grades in descending order of Finals scores.\n",
        "- Output each assignment's max score.\n",
        "- Output the median and average of each assignment's scores.\n",
        "- Output the standard deviation of each assignment's scores.\n",
        "\n",
        "NOTES:\n",
        "\n",
        "- Steps 3 through 5 should only require one function for each step. Ex. Finding the max of each assignment uses max()\n",
        "- Append .to_string() to the end of the function call in order to silence an extraneous line that occurs at the end of the output.\n",
        "- For steps 3, 4, and 5, the functions used will require the parameter numeric_only=True to be passed to specify that only numbers will be calculated (as the input file contains strings for student names).\n",
        "\n",
        "Input and Output Example\n",
        "\n",
        "Ex: If the input of the program is:\n",
        "    StudentInfo.tsv\n",
        "The output is:\n",
        "\n",
        "          Lname   Fname  Midterm1  Midterm2  Final\n",
        "    1  Bradshaw  Reagan        96        97     88\n",
        "    2  Charlton   Caius        73        94     80\n",
        "    0   Barrett    Edan        70        45     59\n",
        "    4     Stern  Brenda        90        86     45\n",
        "    3      Mayo  Tyrese        88        61     36\n",
        "    \n",
        "    Max Scores:\n",
        "    Midterm1    96\n",
        "    Midterm2    97\n",
        "    Final       88\n",
        "    \n",
        "    Median Scores:\n",
        "    Midterm1    88.0\n",
        "    Midterm2    86.0\n",
        "    Final       59.0\n",
        "    \n",
        "    Average Scores:\n",
        "    Midterm1    83.4\n",
        "    Midterm2    76.6\n",
        "    Final       61.6\n",
        "    \n",
        "    Standard Deviation:\n",
        "    Midterm1    11.304866\n",
        "    Midterm2    22.634045\n",
        "    Final       22.210358"
      ]
    },
    {
      "cell_type": "code",
      "execution_count": 32,
      "id": "ff097de1-6c77-4807-89f9-826e12c0d3e1",
      "metadata": {
        "id": "ff097de1-6c77-4807-89f9-826e12c0d3e1",
        "colab": {
          "base_uri": "https://localhost:8080/"
        },
        "outputId": "2a20088b-b42b-4938-f9d1-3000471dde9c"
      },
      "outputs": [
        {
          "output_type": "stream",
          "name": "stdout",
          "text": [
            "StudentInfo_test1.tsv\n",
            "   Lname  Fname  Midterm1  Midterm2  Final\n",
            "Bradshaw Reagan        96        97     88\n",
            "Charlton  Caius        45        94     80\n",
            " Barrett   Edan        70        85     59\n",
            "    Mayo Tyrese        75        66     48\n",
            "   Stern Brenda        90        86     45\n",
            "   Stern    Bob        90        86     45\n",
            "    Mayo  Alice        92        61     36\n",
            "\n",
            "Max Scores:\n",
            "Midterm1    96\n",
            "Midterm2    97\n",
            "Final       88\n",
            "\n",
            "Median Scores:\n",
            "Midterm1    90.0\n",
            "Midterm2    86.0\n",
            "Final       48.0\n",
            "\n",
            "Average Scores:\n",
            "Midterm1    79.714286\n",
            "Midterm2    82.142857\n",
            "Final       57.285714\n",
            "\n",
            "Standard Deviation:\n",
            "Midterm1    18.025115\n",
            "Midterm2    13.582201\n",
            "Final       19.593488\n"
          ]
        }
      ],
      "source": [
        "import pandas as pd\n",
        "\n",
        "file_name = input()\n",
        "\n",
        "# TODO: Read in file_name as a dataframe\n",
        "df = pd.read_csv(f'/content/drive/MyDrive/CAP4770/pa2/{file_name}', sep='\\t')\n",
        "\n",
        "# TODO: Output rows by descending Final scores\n",
        "sorted_df = df.sort_values(by='Final', ascending=False)\n",
        "print(sorted_df.to_string(index=False))\n",
        "\n",
        "print(\"\\nMax Scores:\")\n",
        "max_scores = df.max(numeric_only=True)\n",
        "print(max_scores.to_string())\n",
        "\n",
        "# TODO: Output the max scores of each assignment\n",
        "\n",
        "print(\"\\nMedian Scores:\")\n",
        "median_scores = df.median(numeric_only=True)\n",
        "print(median_scores.to_string())\n",
        "# TODO: Output the median scores of each assignment\n",
        "\n",
        "print(\"\\nAverage Scores:\")\n",
        "average_scores = df.mean(numeric_only=True)\n",
        "print(average_scores.to_string())\n",
        "\n",
        "# TODO: Output the average scores of each assignment.\n",
        "\n",
        "print(\"\\nStandard Deviation:\")\n",
        "standard_deviation = df.std(numeric_only=True)\n",
        "print(standard_deviation.to_string())\n",
        "\n",
        "# TODO: Output the standard devation of each assignment."
      ]
    },
    {
      "cell_type": "code",
      "execution_count": null,
      "id": "72d90295-b8b3-4c49-9334-690ab9c0956d",
      "metadata": {
        "id": "72d90295-b8b3-4c49-9334-690ab9c0956d"
      },
      "outputs": [],
      "source": []
    }
  ],
  "metadata": {
    "kernelspec": {
      "display_name": "Python 3 (ipykernel)",
      "language": "python",
      "name": "python3"
    },
    "language_info": {
      "codemirror_mode": {
        "name": "ipython",
        "version": 3
      },
      "file_extension": ".py",
      "mimetype": "text/x-python",
      "name": "python",
      "nbconvert_exporter": "python",
      "pygments_lexer": "ipython3",
      "version": "3.12.4"
    },
    "colab": {
      "provenance": []
    }
  },
  "nbformat": 4,
  "nbformat_minor": 5
}